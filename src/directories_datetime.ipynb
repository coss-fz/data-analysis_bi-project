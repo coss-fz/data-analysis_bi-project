{
 "cells": [
  {
   "cell_type": "code",
   "execution_count": 42,
   "metadata": {},
   "outputs": [],
   "source": [
    "import os\n",
    "import datetime"
   ]
  },
  {
   "cell_type": "markdown",
   "metadata": {},
   "source": [
    "Directories Mangement"
   ]
  },
  {
   "cell_type": "code",
   "execution_count": 43,
   "metadata": {},
   "outputs": [
    {
     "name": "stdout",
     "output_type": "stream",
     "text": [
      ".gitignore\n",
      "build\n",
      "processing_data\n",
      "pytest.ini\n",
      "README.md\n",
      "src\n",
      "assets_data\n",
      "Makefile\n",
      "coverage.xml\n",
      ".coverage\n",
      "tests\n",
      "requirements.txt\n",
      ".vscode\n",
      ".git\n",
      ".ipynb_checkpoints\n",
      "dist\n",
      "setup.py\n",
      ".pytest_cache\n",
      "venv\n"
     ]
    }
   ],
   "source": [
    "dir = \"/home/juliancoss/repos_git/data-analysis_bi-project/processing_data\" #Absolute Path\n",
    "dir = \"..\" #Relative Path\n",
    "\n",
    "def search_files(directory:str) -> None:\n",
    "    try:\n",
    "        files = os.listdir(directory)\n",
    "\n",
    "        if not files:\n",
    "            print(f\"There's no files in '{directory}'\")\n",
    "        else:\n",
    "            for file in files:\n",
    "                print(file)\n",
    "\n",
    "    except FileNotFoundError:\n",
    "        print(f\"The directory '{directory}' does not exists\")\n",
    "    except Exception as e:\n",
    "        print(f\"Error during directory reading: {e}\")\n",
    "\n",
    "    return None\n",
    "\n",
    "search_files(dir)"
   ]
  },
  {
   "cell_type": "markdown",
   "metadata": {},
   "source": [
    "Datetime Management"
   ]
  },
  {
   "cell_type": "code",
   "execution_count": 51,
   "metadata": {},
   "outputs": [
    {
     "name": "stdout",
     "output_type": "stream",
     "text": [
      "2023-07-17\n",
      "17-07-2023\n"
     ]
    }
   ],
   "source": [
    "##date = datetime.date(2023, 7, 17).strftime(\"%Y-%m-%d\")\n",
    "date = \"2023-07-17\"\n",
    "print(date)\n",
    "\n",
    "def change_date_format(date:str) -> str:\n",
    "\n",
    "    date_type_object = datetime.datetime.strptime(date, '%Y-%m-%d')\n",
    "\n",
    "    date_formated = date_type_object.strftime(\"%d-%m-%Y\")\n",
    "\n",
    "    return date_formated\n",
    "\n",
    "print(change_date_format(date))"
   ]
  },
  {
   "cell_type": "code",
   "execution_count": null,
   "metadata": {},
   "outputs": [],
   "source": []
  }
 ],
 "metadata": {
  "kernelspec": {
   "display_name": "Python 3.8.10 ('venv': venv)",
   "language": "python",
   "name": "python3"
  },
  "language_info": {
   "codemirror_mode": {
    "name": "ipython",
    "version": 3
   },
   "file_extension": ".py",
   "mimetype": "text/x-python",
   "name": "python",
   "nbconvert_exporter": "python",
   "pygments_lexer": "ipython3",
   "version": "3.8.10"
  },
  "orig_nbformat": 4,
  "vscode": {
   "interpreter": {
    "hash": "87c774f7f813e65139914ee45c12d05714f4b1b3d5052420d153329d58f9a0bd"
   }
  }
 },
 "nbformat": 4,
 "nbformat_minor": 2
}
